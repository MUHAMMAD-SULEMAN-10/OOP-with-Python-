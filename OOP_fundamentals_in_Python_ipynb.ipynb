{
  "nbformat": 4,
  "nbformat_minor": 0,
  "metadata": {
    "colab": {
      "provenance": [],
      "authorship_tag": "ABX9TyN45UqZFsqD9b6QZ8YbCkqe",
      "include_colab_link": true
    },
    "kernelspec": {
      "name": "python3",
      "display_name": "Python 3"
    },
    "language_info": {
      "name": "python"
    }
  },
  "cells": [
    {
      "cell_type": "markdown",
      "metadata": {
        "id": "view-in-github",
        "colab_type": "text"
      },
      "source": [
        "<a href=\"https://colab.research.google.com/github/MUHAMMAD-SULEMAN-10/OOP-with-Python-/blob/main/OOP_fundamentals_in_Python_ipynb.ipynb\" target=\"_parent\"><img src=\"https://colab.research.google.com/assets/colab-badge.svg\" alt=\"Open In Colab\"/></a>"
      ]
    },
    {
      "cell_type": "markdown",
      "source": [
        "##week_5 day_1"
      ],
      "metadata": {
        "id": "RJLsof2UlPJ2"
      }
    },
    {
      "cell_type": "markdown",
      "source": [
        "#Introduction to OOP in Python"
      ],
      "metadata": {
        "id": "-xUnLaEzlT1W"
      }
    },
    {
      "cell_type": "markdown",
      "source": [
        "# AGENDA\n",
        "\n",
        "\n",
        "  1. Procedure Oriented Programming\n",
        "  2. Pbject Oriented Programming\n",
        "  3. Mian aspects of OOP\n",
        "  4. Encapsulation\n",
        "  5. class\n",
        "  6. object\n",
        "\n",
        "\n",
        "# Procedure Oriented Porgramming\n",
        "\n",
        "   All the programs we have created so for are around functions, that is block of statements which manipulates data.\n",
        "\n",
        "   This is called procedure oriented way of programming.\n",
        "\n",
        "\n",
        "\n",
        "\n",
        "# Object Oriented Programming\n",
        "\n",
        "\n",
        "\n",
        "   There is another way of oraganiizng your program, which is to combone data and functionality and wrap it inside something called an object.\n",
        "\n",
        "   This is called Object Oriented way of Programming.\n",
        "\n",
        "   This appraoch is more suitable to large programs.\n",
        "\n"
      ],
      "metadata": {
        "id": "p5827DoKoboX"
      }
    },
    {
      "cell_type": "code",
      "source": [
        "#book record managment\n",
        "\n",
        "def inputbook():\n",
        "    print(\"Enter bookid\") #this is one task\n",
        "    bookid=int(input())\n",
        "    title=input(\"Enter book title \")\n",
        "    price= float(input(\"Enter book price\"))\n",
        "    mybook=(bookid,title,price)\n",
        "    return mybook\n",
        "\n",
        "def running():\n",
        "\n",
        "def main():\n",
        "    bookid= 1\n",
        "    title= \"Pyhton made easy\"\n",
        "    price= 400.4\n",
        "    author= \"Abc\"\n",
        "\n",
        "print()\n",
        "\n"
      ],
      "metadata": {
        "colab": {
          "base_uri": "https://localhost:8080/"
        },
        "id": "KZj9c3oalypW",
        "outputId": "1494c7a4-c8e9-4b0f-ef79-3170aa7ff67f"
      },
      "execution_count": null,
      "outputs": [
        {
          "output_type": "stream",
          "name": "stdout",
          "text": [
            "\n"
          ]
        }
      ]
    },
    {
      "cell_type": "markdown",
      "source": [
        "# Main Aspects of OOP (key modules)\n",
        "\n",
        "\"\"\"\n",
        "  1. Encapsulation\n",
        "  2. Inheritance\n",
        "  3. Polymorphism\n",
        "  4. Abstraction (but python is not strict for abstraction)\n",
        "\"\"\"\n",
        "# Encapsulation\n",
        "\n",
        "\n",
        "  An act of combining properties and methods elated to the same entity is called encapsulation.\n",
        "\n"
      ],
      "metadata": {
        "id": "0eRTe6Y6nEt3"
      }
    },
    {
      "cell_type": "markdown",
      "source": [
        "#1. Encapsulation\n",
        "\n",
        "Simple Definition:\n",
        "\n",
        "Wrapping data (variables) and code (methods) into a single unit (class) and hiding the internal details from outside access.\n",
        "\n",
        "##Real-life Example:\n",
        "\n",
        "Think of a TV remote. You press buttons to control the TV, but you don’t know (or need to know) how the internal circuits work. That’s encapsulation.\n",
        "\n",
        "In Python:\n",
        "We use classes, and we can make variables \"private\" using a single or double underscore prefix (e.g., _name, __age).\n",
        "\n",
        "# 2. Inheritance\n",
        "\n",
        "Simple Definition:\n",
        "\n",
        "When a class (child) can use the features (methods and variables) of another class (parent). It helps in code reusability.\n",
        "\n",
        "##Real-life Example:\n",
        "A child inherits traits from parents like eye color or skills.\n",
        "\n",
        "In Python:\n",
        "You create a new class and pass the parent class in parentheses:\n",
        "\n",
        "\n",
        "class Parent:\n",
        "    pass\n",
        "\n",
        "class Child(Parent):\n",
        "    pass\n",
        "\n",
        "#3. Polymorphism\n",
        "\n",
        "Simple Definition:\n",
        "\n",
        "The ability of different classes to respond to the same method in different ways.\n",
        "\n",
        "##Real-life Example:\n",
        "\n",
        "The word \"run\" means different things depending on the context: running code, running a race, running water.\n",
        "\n",
        "In Python:\n",
        "\n",
        "You can use the same method name in different classes, and it behaves differently based on the class:\n",
        "\n",
        "\n",
        "class Dog:\n",
        "    def speak(self):\n",
        "        return \"Bark\"\n",
        "\n",
        "class Cat:\n",
        "    def speak(self):\n",
        "        return \"Meow\"\n",
        "\n",
        "#4. Abstraction\n",
        "\n",
        "Simple Definition:\n",
        "\n",
        "Hiding complex details and showing only the necessary parts.\n",
        "\n",
        "##Real-life Example:\n",
        "\n",
        "When you drive a car, you just use the steering and pedals. You don’t see how the engine works.\n",
        "\n",
        "In Python:\n",
        "\n",
        "Python does not enforce abstraction strictly like Java or C#. But we can use abstract base classes using the abc module to define abstract methods that child classes must implement."
      ],
      "metadata": {
        "id": "-5SftKlmmh22"
      }
    },
    {
      "cell_type": "markdown",
      "source": [
        "#Class and Object"
      ],
      "metadata": {
        "id": "WfXHyrTFnY6G"
      }
    },
    {
      "cell_type": "markdown",
      "source": [
        "# object is a real world programming\n",
        "\n",
        "\n",
        "   1. Common Noun (calss)\n",
        "\n",
        "   2. Proper Noun (object)\n",
        "\n",
        "   \n",
        "# Class (variables and functions)\n",
        "   \n",
        "   \"in calss we have properties and methods\"\n",
        "    \n",
        "    and we call them atributes(sort, append)\n",
        "\n",
        "   1. class is a keyword\n",
        "   2. class name start with capital letter\n",
        "   3. calss encapsulates data and functions\n",
        "   4. creating calss is crating a new data type\n",
        "   5. class is a description of an object.\n",
        "   6. class is a blue print of abject.\n",
        "\n",
        "      l1 = [10,20,30]\n",
        "      \n",
        "      l1.append(100)\n",
        "      \n",
        "      l1.sort()\n",
        "      \n",
        "      l1.....\n",
        "\n",
        "      All these fun are made in list class and list class  is an description of l1 ,so what to do l1 using?\n",
        "\n",
        "\"\"\"\n",
        "\n",
        "# Note:\n",
        "\n",
        " int, float, complex, bool,list,range, tuple, set, dict, str, etc are classes.\n",
        "\n",
        "  x = 5\n",
        "\n",
        "  x is an int type object\n",
        "\n",
        "\n",
        "#Object\n",
        "\n",
        "\n",
        "   1. object is an instance (example) of a class.\n",
        "   2. object is a real world entity\n",
        "   3. instance = object = instance object (same)\n",
        "   4. You can create any number of objects of a class.\n",
        "\n",
        "   x = 5\n",
        "   \n",
        "   y = 4\n",
        "   \n",
        "   z = 7\n",
        "\n",
        " x, y, z refer to three differnt objects of int calss.\n",
        " thier type will be an object.\n",
        "\n"
      ],
      "metadata": {
        "id": "-sDg_rIpndne"
      }
    },
    {
      "cell_type": "markdown",
      "source": [
        "# book (entity)\n",
        "# properties\n",
        "\n",
        "\n",
        "   1.book title\n",
        "  \n",
        "   2.book id\n",
        "  \n",
        "   3.book price\n",
        "   \n",
        "   4.book author\n",
        "   \n",
        "   5.book ediiton\n",
        "\n",
        "\n",
        "# Methods\n",
        "\n",
        "   1. inputBook()\n",
        "   2. SearchBook() it is a task to access the properties of book.\n",
        "   2. DisplayBook()\n",
        "   4. updateBookPrice()\n"
      ],
      "metadata": {
        "id": "RJMv7sypn99O"
      }
    },
    {
      "cell_type": "markdown",
      "source": [
        "#Banking system software & General Examples of Classes and Objects"
      ],
      "metadata": {
        "id": "9vhpISKqomoW"
      }
    },
    {
      "cell_type": "markdown",
      "source": [
        "#Employee\n",
        "\n",
        "#Class: Employee\n",
        "\n",
        "Properties: name, salary\n",
        "\n",
        "#Methods:\n",
        "\n",
        "validateData(),\n",
        "\n",
        "checkRecord()\n",
        "\n",
        "Objects: Sara (an instance of class)\n",
        "\n",
        "(Employee with salary $5000 who can validate data and check records)\n",
        "\n",
        "#Customer\n",
        "\n",
        "#Class: Customer\n",
        "\n",
        "Properties: name, balance\n",
        "\n",
        "#Methods:\n",
        "\n",
        "payBill(),\n",
        "\n",
        "withdrawBalance()\n",
        "\n",
        "Objects: Ahmed\n",
        "\n",
        "(Customer with balance of $1000 who can pay bills or withdraw balance)\n",
        "\n",
        "\n",
        "#More Examples:\n",
        "\n",
        "#Human\n",
        "\n",
        "Properties: name, gender, age\n",
        "\n",
        "Objects: Suleman, Sara (both are instances of the Human class)\n",
        "\n",
        "#Car\n",
        "\n",
        "Class: Car\n",
        "\n",
        "Properties: model, speed, color, price\n",
        "\n",
        "Objects: Honda Civic, Toyota Corolla\n",
        "\n",
        "#General Objects\n",
        "\n",
        "\n",
        "#Class:\n",
        "\n",
        "Mobile, Chair, Pen, Computer\n",
        "\n",
        "#Properties:\n",
        "\n",
        "color, size, weight, price\n",
        "\n",
        "#Objects:\n",
        "\n",
        "Samsung mobile, Office chair, Ballpoint pen"
      ],
      "metadata": {
        "id": "gjH2BLHXovc-"
      }
    },
    {
      "cell_type": "markdown",
      "source": [
        "## Classes and Objects Practical"
      ],
      "metadata": {
        "id": "0jTId6dspnkO"
      }
    },
    {
      "cell_type": "markdown",
      "source": [
        "# Syntax of class\n",
        "\n",
        "class className:\n",
        "\n",
        "     varables\n",
        "\n",
        "     functions\n",
        "\n",
        "calss definition must be executed before its use.\n",
        "\n",
        "suleman.deposit(acc, 3000)\n",
        "\n",
        "ahmad.withdraw(acc, 2000)\n",
        "\n",
        "\n",
        "\n",
        "\n",
        "#running( )\n",
        "\n",
        "someone is runnnig but we do not know who is ?"
      ],
      "metadata": {
        "id": "89B2y3Uyp03W"
      }
    },
    {
      "cell_type": "code",
      "source": [
        "class Test: # class object with name Test\n",
        "\n",
        "    x1=5\n",
        "\n",
        "    x2=6\n",
        "\n",
        "    def f1(self):\n",
        "        print(\"Hello World\")\n",
        "\n",
        "t1 = Test()\n",
        "t2 = Test()\n",
        "t3 = Test()\n",
        "\n",
        "t1.f1()\n",
        "print(t2)\n",
        "print(type(t1))\n",
        "\n",
        "\n",
        "# <class '_main_.Test'> main file name like lec_18_classes_objects.py which is our main module\n",
        "# and main file in moudle and the test class is the data type of t1."
      ],
      "metadata": {
        "colab": {
          "base_uri": "https://localhost:8080/"
        },
        "id": "lUIAXApfp5Me",
        "outputId": "95ada1dd-378f-4b26-c3b7-ded97b082f27"
      },
      "execution_count": null,
      "outputs": [
        {
          "output_type": "stream",
          "name": "stdout",
          "text": [
            "Hello World\n",
            "<__main__.Test object at 0x7f87927b9350>\n",
            "<class '__main__.Test'>\n"
          ]
        }
      ]
    },
    {
      "cell_type": "markdown",
      "source": [
        "# Object\n",
        "\n",
        "\n",
        "   Three types of objects\n",
        "\n",
        "   1. Instace Object = object\n",
        "   \n",
        "   2. class object\n",
        "   \n",
        "   3. function object\n"
      ],
      "metadata": {
        "id": "nB7vhxawqIm2"
      }
    },
    {
      "cell_type": "markdown",
      "source": [
        "# Creating instance Object\n",
        "   \n",
        "\n",
        "   class Test:\n",
        "\n",
        "      varables\n",
        "\n",
        "      functions\n",
        "\n",
        "t1=  Test() #t1 contain the id of test class object\n",
        "\n",
        "t2 = Test()\n",
        "\n",
        "t3 = Test()"
      ],
      "metadata": {
        "id": "msnZUkMFqRpW"
      }
    },
    {
      "cell_type": "markdown",
      "source": [
        "# Differnce between instance object vs class object\n",
        "\n",
        "#class object\n",
        "\n",
        "   1.if we created the class then class object is created\n",
        "   \n",
        "   2.a variable with same name of calss refer to this class\n",
        "   \n",
        "   3.a class name is a refrence variable which store the id of class object.\n",
        "   \n",
        "   4.for one class only one class object will be created\n",
        "   \n",
        "   5.class object also has varaible name & may be fulfield at begining it depends\n",
        "\n",
        "\n",
        "\n",
        "\n",
        "\n",
        "#instance object\n",
        "\n",
        "   t3 = Test()\n",
        "   \n",
        "   instace object at begining are empty or always empty ?  no after creating these the variable data come.\n",
        "\n",
        "   \n",
        "   1. instace object refer to the class name\n",
        "   \n",
        "   2. for one calss instance object will be 0 and more\n",
        "   \n",
        "   3. instnce object also has variable name"
      ],
      "metadata": {
        "id": "mkmnJzc1qaKW"
      }
    },
    {
      "cell_type": "markdown",
      "source": [
        "#self\n",
        "\n",
        "self is required in instance methods to access the object’s properties or methods.\n",
        "\n",
        "Without self, Python considers the method as a static method.\n",
        "\n",
        "To call f1(), use the instance object like t1.f1().\n"
      ],
      "metadata": {
        "id": "kGnhEgSrqom2"
      }
    },
    {
      "cell_type": "markdown",
      "source": [
        "# static method in python language\n",
        "\n",
        "class Test:\n",
        "    \n",
        "    x1 = 5\n",
        "    \n",
        "    x2 = 6\n",
        "    \n",
        "    @staticmethod\n",
        "    def f1():\n",
        "        print(\"static method\")\n",
        "\n",
        "Test.f1()  # Directly call without self\n",
        "\n",
        "\n",
        "\n",
        "# Note:\n",
        "\n",
        "   1. test  is only a calss object\n",
        "   \n",
        "   2. Test () is a fucnction call to create instance object\n",
        "     t1=  Test()\n"
      ],
      "metadata": {
        "id": "yjkuRgVQq0Eu"
      }
    },
    {
      "cell_type": "markdown",
      "source": [
        "#Week_5 Day_2"
      ],
      "metadata": {
        "id": "-nOr5c9mvzPX"
      }
    },
    {
      "cell_type": "markdown",
      "source": [
        "1.What is a Class?\n",
        "\n",
        "A class is like a blueprint or recipe for making something.\n",
        "\n",
        "Example: If you want to make many cars, you first create a Car blueprint (class). Then, you can make many cars (objects) from that blueprint."
      ],
      "metadata": {
        "id": "NOy8h3t6v6E4"
      }
    },
    {
      "cell_type": "code",
      "source": [
        "class Car:\n",
        "\n",
        "    pass  # empty class for now"
      ],
      "metadata": {
        "id": "sSUyMXg4wAYc"
      },
      "execution_count": null,
      "outputs": []
    },
    {
      "cell_type": "markdown",
      "source": [
        "2.What is an Object?\n",
        "\n",
        "An object is something you make from a class. It is a real thing based on the blueprint.\n"
      ],
      "metadata": {
        "id": "q3C6mSTtwE-y"
      }
    },
    {
      "cell_type": "code",
      "source": [
        "my_car = Car()  # my_car is an object of class Car"
      ],
      "metadata": {
        "id": "JvF2GeomwH1o"
      },
      "execution_count": null,
      "outputs": []
    },
    {
      "cell_type": "markdown",
      "source": [
        "# init ( ) method"
      ],
      "metadata": {
        "id": "nzcK_z0Gx6sN"
      }
    },
    {
      "cell_type": "code",
      "source": [
        "class Book:\n",
        "  def __init__(self):\n",
        "\n",
        "    print(\"Books\")\n",
        "\n",
        "Chem = Book()\n",
        "Bio = Book()\n",
        "\n",
        "\n"
      ],
      "metadata": {
        "colab": {
          "base_uri": "https://localhost:8080/"
        },
        "id": "6SWc0xYmyHVF",
        "outputId": "8ea7a0af-0c81-4ac1-8fa5-24eeec58c78b"
      },
      "execution_count": null,
      "outputs": [
        {
          "output_type": "stream",
          "name": "stdout",
          "text": [
            "Books\n",
            "Books\n"
          ]
        }
      ]
    },
    {
      "cell_type": "markdown",
      "source": [
        "3 What are Instance Attributes?\n",
        "\n",
        "These are variables that belong to an object. Each object can have different values."
      ],
      "metadata": {
        "id": "NTSQ7w4f0KFV"
      }
    },
    {
      "cell_type": "code",
      "source": [
        "class Car:\n",
        "    def __init__(self, color, brand):  # __init__ is a special method that runs when you make an object\n",
        "        # a = 5\n",
        "        # Self.a = 5   //instanc obj varibale\n",
        "        self.a = color        # instance attribute\n",
        "        self.b = brand        # instance attribute"
      ],
      "metadata": {
        "id": "BIpl30vEwh7Q"
      },
      "execution_count": null,
      "outputs": []
    },
    {
      "cell_type": "markdown",
      "source": [
        "self.color = color\n",
        "\n",
        "self.color creates a new variable for the object.\n",
        "\n",
        "\n",
        "The value of color (passed from outside) is stored inside the object as color.\n"
      ],
      "metadata": {
        "id": "pdMwaGaQ1QYh"
      }
    },
    {
      "cell_type": "markdown",
      "source": [
        "Now when you create a car:\n",
        "\n"
      ],
      "metadata": {
        "id": "QA1MiRbpwlNA"
      }
    },
    {
      "cell_type": "code",
      "source": [
        "car1 = Car(\"Red\", \"Toyota\")\n",
        "\n",
        "car2 = Car(\"Blue\", \"Honda\")"
      ],
      "metadata": {
        "id": "4orcrdopwqkW"
      },
      "execution_count": null,
      "outputs": []
    },
    {
      "cell_type": "markdown",
      "source": [
        "4.What is a Method?\n",
        "\n",
        "A method is a function inside a class. It tells the object what it can do."
      ],
      "metadata": {
        "id": "Mfwhc50swwmi"
      }
    },
    {
      "cell_type": "code",
      "source": [
        "class Car:\n",
        "    def __init__(self, color, brand):\n",
        "        self.a = color\n",
        "        self.b = brand\n",
        "\n",
        "    def drive(self):  # a method\n",
        "        print(f\"The {self.a} {self.b} is driving.\")"
      ],
      "metadata": {
        "id": "EbTMQdE0wzuU"
      },
      "execution_count": null,
      "outputs": []
    },
    {
      "cell_type": "code",
      "source": [
        "car1 = Car(\"Black\", \"Tesla\")\n",
        "car1.drive()  # Output: The Black Tesla is driving.\n",
        "\n",
        "car2 = Car (\"Blue\", \"Toyata car\")\n",
        "car2.drive()"
      ],
      "metadata": {
        "colab": {
          "base_uri": "https://localhost:8080/"
        },
        "id": "T7gYfjyGw2kS",
        "outputId": "f72af282-1115-4ef0-c247-15415198e472"
      },
      "execution_count": null,
      "outputs": [
        {
          "output_type": "stream",
          "name": "stdout",
          "text": [
            "The Black Tesla is driving.\n",
            "The Blue Toyata car is driving.\n"
          ]
        }
      ]
    },
    {
      "cell_type": "markdown",
      "source": [
        "5.Accessing Object Attributes and Methods\n",
        "\n",
        "You can use dot . to access any variable (attribute) or method."
      ],
      "metadata": {
        "id": "yrXyz0DMw6U3"
      }
    },
    {
      "cell_type": "code",
      "source": [
        "print(car1.a, car1.b)    # prints: Black\n",
        "car1.drive()         # calls the drive() method"
      ],
      "metadata": {
        "colab": {
          "base_uri": "https://localhost:8080/"
        },
        "id": "k_rdtHmew8Gz",
        "outputId": "d3d6691d-4697-494e-c472-bc38f5cc6425"
      },
      "execution_count": null,
      "outputs": [
        {
          "output_type": "stream",
          "name": "stdout",
          "text": [
            "Black Tesla\n",
            "The Black Tesla is driving.\n"
          ]
        }
      ]
    },
    {
      "cell_type": "markdown",
      "source": [
        "#Week 5 day 3"
      ],
      "metadata": {
        "id": "wbIcxGCtyg-p"
      }
    },
    {
      "cell_type": "markdown",
      "source": [
        "\n",
        "#What is __init__( ) ?\n",
        "\n",
        "\n",
        "__init__() is a special method in Python classes.\n",
        "\n",
        "It is called automatically when you create an object from a class.\n",
        "\n",
        "It is used to initialize (set up) the object with default or custom values.\n",
        "\n",
        "It is also known as the constructor of the class.\n",
        "\n"
      ],
      "metadata": {
        "id": "r0LEuO4C8IQY"
      }
    },
    {
      "cell_type": "code",
      "source": [
        "#Syntax:\n",
        "\n",
        "class ClassName:\n",
        "    def __init__(self, parameters):\n",
        "        self.attribute = value"
      ],
      "metadata": {
        "id": "5ax3sWrd8Ngh"
      },
      "execution_count": 3,
      "outputs": []
    },
    {
      "cell_type": "code",
      "source": [
        "#Example:\n",
        "\n",
        "class Person:\n",
        "    def __init__(self, name, age):\n",
        "        self.name = name\n",
        "        self.age = age\n",
        "\n",
        "    def information(self):  # a method\n",
        "        print(f\"Human {self.name} and age is {self.age} \")\n",
        "\n",
        "\n",
        "#Here, name and age are passed when the object is created.\n",
        "\n",
        "#self.name and self.age are the instance variables that store those values."
      ],
      "metadata": {
        "id": "uUi_aYNp8Sm0"
      },
      "execution_count": 16,
      "outputs": []
    },
    {
      "cell_type": "code",
      "source": [
        "#Creating an Object:\n",
        "\n",
        "p1 = Person(\"Ali\", 25)\n",
        "\n",
        "p2 = Person(\"Suleman\",24)\n",
        "\n",
        "p1.information()\n",
        "\n",
        "p2.information()\n"
      ],
      "metadata": {
        "colab": {
          "base_uri": "https://localhost:8080/"
        },
        "id": "b2T1ITwH8X2Z",
        "outputId": "99fa71c6-3c47-43a9-d191-21fe809497a4"
      },
      "execution_count": 21,
      "outputs": [
        {
          "output_type": "stream",
          "name": "stdout",
          "text": [
            "Human Ali and age is 25 \n",
            "Human Suleman and age is 24 \n"
          ]
        }
      ]
    },
    {
      "cell_type": "code",
      "source": [
        "#This automatically runs:\n",
        "\n",
        "\n",
        "# def __init__(self, \"Ali\", 25)"
      ],
      "metadata": {
        "id": "zjdahOCr8b8I"
      },
      "execution_count": 7,
      "outputs": []
    },
    {
      "cell_type": "markdown",
      "source": [
        "#What does self mean?\n",
        "\n",
        "self refers to the current object being created.\n",
        "\n",
        "It allows each object to store its own data separately."
      ],
      "metadata": {
        "id": "vW36qi5O8kc_"
      }
    },
    {
      "cell_type": "markdown",
      "source": [
        "#Finally\n",
        "\n",
        "__init__() runs every time you make a new object.\n",
        "\n",
        "It helps you pass values to the object right when you create it.\n",
        "\n",
        "Without __init__(), you'd have to manually assign values later."
      ],
      "metadata": {
        "id": "DcQLC7g_8pg6"
      }
    },
    {
      "cell_type": "markdown",
      "source": [
        "#Types of Functions in a Class"
      ],
      "metadata": {
        "id": "SBMtgq5py1jg"
      }
    },
    {
      "cell_type": "markdown",
      "source": [
        "1.Instance Methods (Most common)\n",
        "\n",
        "What it is:\n",
        "\n",
        "These work with object data (attributes).\n",
        "\n",
        "They use the self keyword to access the object."
      ],
      "metadata": {
        "id": "dpiQvDi3zLY3"
      }
    },
    {
      "cell_type": "code",
      "source": [
        "#Example:\n",
        "class Student:\n",
        "\n",
        "    def __init__(self, name):\n",
        "\n",
        "        self.name = name\n",
        "\n",
        "    def say_hello(self):  # instance method\n",
        "        print(f\"Hello, my name is {self.name}\")"
      ],
      "metadata": {
        "id": "gYHpUk2azTSg"
      },
      "execution_count": 20,
      "outputs": []
    },
    {
      "cell_type": "code",
      "source": [
        "#Usage:\n",
        "\n",
        "\n",
        "s1 = Student(\"Usman\")\n",
        "\n",
        "s1.say_hello()  # Output: Hello, my name is Ali"
      ],
      "metadata": {
        "colab": {
          "base_uri": "https://localhost:8080/"
        },
        "id": "JekYe5s_zZJj",
        "outputId": "e6b20ffd-bd7e-47a9-e563-e703bd8e8fe0"
      },
      "execution_count": 22,
      "outputs": [
        {
          "output_type": "stream",
          "name": "stdout",
          "text": [
            "Hello, my name is Usman\n"
          ]
        }
      ]
    },
    {
      "cell_type": "markdown",
      "source": [
        "#Class Methods\n",
        "\n",
        "What it is:\n",
        "\n",
        "These work with the class itself, not with a specific object.\n",
        "\n",
        "They use cls instead of self.\n",
        "\n",
        "You must use a decorator: @classmethod"
      ],
      "metadata": {
        "id": "rhD5urnIzd-x"
      }
    },
    {
      "cell_type": "code",
      "source": [
        "#Example:\n",
        "\n",
        "\n",
        "class School:\n",
        "    school_name = \"ABC is a School name\"\n",
        "\n",
        "    @classmethod\n",
        "    def get_school_name(cls):  # class method\n",
        "        print(cls.school_name)"
      ],
      "metadata": {
        "id": "isYjE-0a6IdE"
      },
      "execution_count": 26,
      "outputs": []
    },
    {
      "cell_type": "code",
      "source": [
        "#Usage:\n",
        "\n",
        "School.get_school_name()  # Output: ABC High School"
      ],
      "metadata": {
        "colab": {
          "base_uri": "https://localhost:8080/"
        },
        "id": "y1vWnrqk6M8g",
        "outputId": "eace5217-d982-4927-affd-fa9ece44b7d6"
      },
      "execution_count": 27,
      "outputs": [
        {
          "output_type": "stream",
          "name": "stdout",
          "text": [
            "ABC is a School name\n"
          ]
        }
      ]
    },
    {
      "cell_type": "markdown",
      "source": [
        "#Static Methods\n",
        "\n",
        "What it is:\n",
        "\n",
        "These don’t use self or cls.\n",
        "\n",
        "They don’t need access to the object or class.\n",
        "\n",
        "Use @staticmethod decorator.\n",
        "\n",
        "Used for utility/helper tasks."
      ],
      "metadata": {
        "id": "9cuXjME76Q_g"
      }
    },
    {
      "cell_type": "code",
      "source": [
        "#Example:\n",
        "\n",
        "class MathTools:\n",
        "    @staticmethod\n",
        "    def add(x, y):\n",
        "        return x + y"
      ],
      "metadata": {
        "id": "Rn571wpe6X1j"
      },
      "execution_count": 29,
      "outputs": []
    },
    {
      "cell_type": "code",
      "source": [
        "#Usage:\n",
        "\n",
        "print(MathTools.add(3, 5))  # Output: 8"
      ],
      "metadata": {
        "colab": {
          "base_uri": "https://localhost:8080/"
        },
        "id": "-V8tvEeq6bw5",
        "outputId": "2028b784-c51d-4412-8371-64851c043c9e"
      },
      "execution_count": 30,
      "outputs": [
        {
          "output_type": "stream",
          "name": "stdout",
          "text": [
            "8\n"
          ]
        }
      ]
    },
    {
      "cell_type": "markdown",
      "source": [
        "#Instance Method:\n",
        "\n",
        "Defined inside a class using def.\n",
        "\n",
        "Takes self as the first parameter.\n",
        "\n",
        "Works with object (instance) data.\n",
        "\n",
        "Can access and modify the attributes of the object.\n",
        "\n",
        "You call it using the object: object.method().\n",
        "\n",
        "No decorator is used.\n",
        "\n",
        "Example:\n",
        "\n",
        "\n"
      ],
      "metadata": {
        "id": "jBS-R2Rm7Ztb"
      }
    },
    {
      "cell_type": "code",
      "source": [
        "def show_name(self):\n",
        "    print(self.name)"
      ],
      "metadata": {
        "id": "KMJsO3ko7dUO"
      },
      "execution_count": null,
      "outputs": []
    },
    {
      "cell_type": "markdown",
      "source": [
        "#Class Method:\n",
        "\n",
        "Defined inside a class using def.\n",
        "\n",
        "Takes cls as the first parameter.\n",
        "\n",
        "Works with the class itself, not a specific object.\n",
        "\n",
        "Can access or modify class-level variables.\n",
        "\n",
        "You call it using the class or object: Class.method() or object.method().\n",
        "\n",
        "Must be marked with the @classmethod decorator.\n",
        "\n",
        "Example:\n",
        "\n",
        "\n"
      ],
      "metadata": {
        "id": "8PJgc4bR7g2C"
      }
    },
    {
      "cell_type": "code",
      "source": [
        "@classmethod\n",
        "def get_school_name(cls):\n",
        "    print(cls.school_name)"
      ],
      "metadata": {
        "id": "cdVWIhaY7lCd"
      },
      "execution_count": null,
      "outputs": []
    },
    {
      "cell_type": "markdown",
      "source": [
        "#Static Method:\n",
        "\n",
        "Defined inside a class using def.\n",
        "\n",
        "Takes no self or cls parameter.\n",
        "\n",
        "Does not access object or class data.\n",
        "\n",
        "Acts like a normal function but kept inside a class for structure.\n",
        "\n",
        "You call it using the class or object: Class.method() or object.method().\n",
        "\n",
        "Must be marked with the @staticmethod decorator.\n",
        "\n",
        "Example:\n"
      ],
      "metadata": {
        "id": "_Bl8NjdX7oFZ"
      }
    },
    {
      "cell_type": "code",
      "source": [
        "\n",
        "@staticmethod\n",
        "def add(x, y):\n",
        "    return x + y"
      ],
      "metadata": {
        "id": "TXkMQmDw7r9j"
      },
      "execution_count": null,
      "outputs": []
    },
    {
      "cell_type": "markdown",
      "source": [
        "#Example Code with All Three"
      ],
      "metadata": {
        "id": "QK0Yzjym6_hU"
      }
    },
    {
      "cell_type": "code",
      "source": [
        "class Example:\n",
        "    school_name = \"ABC School\"\n",
        "\n",
        "    def __init__(self, student_name):\n",
        "        self.student_name = student_name  # instance attribute\n",
        "\n",
        "    # Instance Method\n",
        "    def show_name(self):\n",
        "        print(f\"My name is {self.student_name}\")\n",
        "\n",
        "    # Class Method\n",
        "    @classmethod\n",
        "    def get_school(cls):\n",
        "        print(f\"School name is {cls.school_name}\")\n",
        "\n",
        "    # Static Method\n",
        "    @staticmethod\n",
        "    def add(x, y):\n",
        "        return x + y\n"
      ],
      "metadata": {
        "id": "ntikNhK07BJa"
      },
      "execution_count": 32,
      "outputs": []
    },
    {
      "cell_type": "markdown",
      "source": [
        " How to Use Them"
      ],
      "metadata": {
        "id": "R1bwkmwG7FWQ"
      }
    },
    {
      "cell_type": "code",
      "source": [
        "# Create object\n",
        "student = Example(\"Ali\")\n",
        "\n",
        "# Instance Method (uses object)\n",
        "student.show_name()         # Output: My name is Ali\n",
        "\n",
        "# Class Method (can use class or object)\n",
        "Example.get_school()        # Output: School name is ABC School\n",
        "student.get_school()        # Also works!\n",
        "\n",
        "# Static Method (use class or object)\n",
        "print(Example.add(3, 4))    # Output: 7\n",
        "print(student.add(5, 2))    # Also works!\n"
      ],
      "metadata": {
        "colab": {
          "base_uri": "https://localhost:8080/"
        },
        "id": "6WzHThRJ7GW7",
        "outputId": "7f23a2f8-670c-4788-d592-ad1ee5921afa"
      },
      "execution_count": 33,
      "outputs": [
        {
          "output_type": "stream",
          "name": "stdout",
          "text": [
            "My name is Ali\n",
            "School name is ABC School\n",
            "School name is ABC School\n",
            "7\n",
            "7\n"
          ]
        }
      ]
    },
    {
      "cell_type": "markdown",
      "source": [
        "#Types of Variables in a Class (OOP)"
      ],
      "metadata": {
        "id": "i15NcbLU9FY1"
      }
    },
    {
      "cell_type": "markdown",
      "source": [
        "#1.Instance Variables\n",
        "\n",
        "Defined inside a class and inside a method, usually __init__().\n",
        "\n",
        "Always written as self.variable_name.\n",
        "\n",
        "Belongs to a specific object.\n",
        "\n",
        "Each object has its own copy of instance variables."
      ],
      "metadata": {
        "id": "mkHpqLmL9KuW"
      }
    },
    {
      "cell_type": "code",
      "source": [
        "#Example:\n",
        "\n",
        "\n",
        "class Student:\n",
        "    def __init__(self, name, age):\n",
        "        self.name = name    # instance variable\n",
        "        self.age = age      # instance variable"
      ],
      "metadata": {
        "id": "ahkLTR169QEF"
      },
      "execution_count": null,
      "outputs": []
    },
    {
      "cell_type": "markdown",
      "source": [
        "#.Class Variables\n",
        "\n",
        "Defined inside the class, but outside all methods.\n",
        "\n",
        "Belongs to the class itself, not to any one object.\n",
        "\n",
        "All objects share the same value of a class variable."
      ],
      "metadata": {
        "id": "CQEYIx729T6f"
      }
    },
    {
      "cell_type": "code",
      "source": [
        "#Example:\n",
        "\n",
        "\n",
        "class Student:\n",
        "    school_name = \"ABC School\"   # class variable\n",
        "\n",
        "    def __init__(self, name):\n",
        "        self.name = name          # instance variable"
      ],
      "metadata": {
        "id": "x_fzMvS49WhH"
      },
      "execution_count": null,
      "outputs": []
    },
    {
      "cell_type": "markdown",
      "source": [
        "#Instance Variables vs Class Variables\n",
        "\n",
        "Instance variables are unique to each object.\n",
        "\n",
        "Class variables are shared among all objects.\n",
        "\n",
        "You access instance variables with self.variable.\n",
        "\n",
        "You access class variables with ClassName.variable or self.__class__.variable."
      ],
      "metadata": {
        "id": "HwYTVKbN9c__"
      }
    },
    {
      "cell_type": "markdown",
      "source": [
        "#Global vs Local Variables (in the context of a class)\n"
      ],
      "metadata": {
        "id": "qUV-pKGN9jFw"
      }
    },
    {
      "cell_type": "markdown",
      "source": [
        "#Global Variables\n",
        "\n",
        "Defined outside the class and outside all functions.\n",
        "\n",
        "Can be accessed from anywhere in the file.\n",
        "\n",
        "Use global keyword inside methods if you want to modify them."
      ],
      "metadata": {
        "id": "gtouyQhm9mNT"
      }
    },
    {
      "cell_type": "code",
      "source": [
        "#Example:\n",
        "\n",
        "\n",
        "x = 10  # global variable\n",
        "\n",
        "class MyClass:\n",
        " def show(self):\n",
        "  print(x)"
      ],
      "metadata": {
        "id": "pzVpagCA9pZi"
      },
      "execution_count": 39,
      "outputs": []
    },
    {
      "cell_type": "markdown",
      "source": [
        "#Local Variables\n",
        "\n",
        "Defined inside a function or method.\n",
        "\n",
        "Only available within that function.\n",
        "\n",
        "Cannot be used outside the method where they are defined."
      ],
      "metadata": {
        "id": "P3-M2d7p9uag"
      }
    },
    {
      "cell_type": "code",
      "source": [
        "#Example:\n",
        "\n",
        "\n",
        "class MyClass:\n",
        "    def show(self):\n",
        "        y = 5   # local variable\n",
        "        print(y)"
      ],
      "metadata": {
        "id": "a7QpVer09ypE"
      },
      "execution_count": null,
      "outputs": []
    },
    {
      "cell_type": "markdown",
      "source": [
        "##Understanding Variable Scope in OOP\n",
        "\n",
        "# Variable Scope Levels:\n",
        "\n",
        "Local Scope – only inside a method/function.\n",
        "\n",
        "Instance Scope – tied to a specific object (self.variable).\n",
        "\n",
        "Class Scope – tied to the class, shared by all objects.\n",
        "\n",
        "Global Scope – available everywhere in the file/module.\n",
        "\n"
      ],
      "metadata": {
        "id": "mNUjEJ4-94O6"
      }
    },
    {
      "cell_type": "markdown",
      "source": [
        "#Example Showing All Scopes:"
      ],
      "metadata": {
        "id": "hsDJC9Cc9-Wv"
      }
    },
    {
      "cell_type": "code",
      "source": [
        "school_code = \"XYZ\"  # global variable\n",
        "\n",
        "class Student:\n",
        "    school_name = \"ABC School\"  # class variable\n",
        "\n",
        "    def __init__(self, name):\n",
        "        self.name = name  # instance variable\n",
        "\n",
        "    def show_info(self):\n",
        "        section = \"A\"  # local variable\n",
        "        print(self.name, Student.school_name, section, school_code)"
      ],
      "metadata": {
        "id": "qtVTZq2w-CDS"
      },
      "execution_count": 1,
      "outputs": []
    },
    {
      "cell_type": "code",
      "source": [
        "# Global Variable\n",
        "\n",
        "school_code = \"XYZ\"  # global variable\n",
        "\n",
        "# Class Definition\n",
        "class Student:\n",
        "    school_name = \"ABC School\"  # class variable\n",
        "\n",
        "    def __init__(self, name):\n",
        "        self.name = name  # instance variable\n",
        "\n",
        "    def show_info(self):\n",
        "        section = \"A\"  # local variable\n",
        "        print(\"Name:\", self.name)\n",
        "        print(\"School Name:\", Student.school_name)\n",
        "        print(\"Section:\", section)\n",
        "        print(\"School Code:\", school_code)\n",
        "        print(\"-----------------------------\")\n",
        "\n",
        "# Creating Objects (Instances)\n",
        "student1 = Student(\"Ali\")\n",
        "student2 = Student(\"Ayesha\")\n",
        "student3 = Student(\"Usman\")\n",
        "\n",
        "# Calling the Method\n",
        "student1.show_info()\n",
        "student2.show_info()\n",
        "student3.show_info()\n"
      ],
      "metadata": {
        "colab": {
          "base_uri": "https://localhost:8080/"
        },
        "id": "fCysAj3r-XL3",
        "outputId": "c1bf17e4-7593-4312-ce17-8bf7287f7d24"
      },
      "execution_count": 2,
      "outputs": [
        {
          "output_type": "stream",
          "name": "stdout",
          "text": [
            "Name: Ali\n",
            "School Name: ABC School\n",
            "Section: A\n",
            "School Code: XYZ\n",
            "-----------------------------\n",
            "Name: Ayesha\n",
            "School Name: ABC School\n",
            "Section: A\n",
            "School Code: XYZ\n",
            "-----------------------------\n",
            "Name: Usman\n",
            "School Name: ABC School\n",
            "Section: A\n",
            "School Code: XYZ\n",
            "-----------------------------\n"
          ]
        }
      ]
    }
  ]
}