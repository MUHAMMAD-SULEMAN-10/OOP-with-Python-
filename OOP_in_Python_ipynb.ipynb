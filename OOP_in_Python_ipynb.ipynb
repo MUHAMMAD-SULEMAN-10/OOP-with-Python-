{
  "nbformat": 4,
  "nbformat_minor": 0,
  "metadata": {
    "colab": {
      "provenance": [],
      "authorship_tag": "ABX9TyNRWw8rXb9ZiSyKo3AuwYny",
      "include_colab_link": true
    },
    "kernelspec": {
      "name": "python3",
      "display_name": "Python 3"
    },
    "language_info": {
      "name": "python"
    }
  },
  "cells": [
    {
      "cell_type": "markdown",
      "metadata": {
        "id": "view-in-github",
        "colab_type": "text"
      },
      "source": [
        "<a href=\"https://colab.research.google.com/github/MUHAMMAD-SULEMAN-10/OOP-with-Python-/blob/main/OOP_in_Python_ipynb.ipynb\" target=\"_parent\"><img src=\"https://colab.research.google.com/assets/colab-badge.svg\" alt=\"Open In Colab\"/></a>"
      ]
    },
    {
      "cell_type": "markdown",
      "source": [
        "##week_5 day_1"
      ],
      "metadata": {
        "id": "RJLsof2UlPJ2"
      }
    },
    {
      "cell_type": "markdown",
      "source": [
        "#Introduction to OOP in Python"
      ],
      "metadata": {
        "id": "-xUnLaEzlT1W"
      }
    },
    {
      "cell_type": "markdown",
      "source": [
        "# AGENDA\n",
        "\n",
        "\n",
        "  1. Procedure Oriented Programming\n",
        "  2. Pbject Oriented Programming\n",
        "  3. Mian aspects of OOP\n",
        "  4. Encapsulation\n",
        "  5. class\n",
        "  6. object\n",
        "\n",
        "\n",
        "# Procedure Oriented Porgramming\n",
        "\n",
        "   All the programs we have created so for are around functions, that is block of statements which manipulates data.\n",
        "\n",
        "   This is called procedure oriented way of programming.\n",
        "\n",
        "\n",
        "\n",
        "\n",
        "# Object Oriented Programming\n",
        "\n",
        "\n",
        "\n",
        "   There is another way of oraganiizng your program, which is to combone data and functionality and wrap it inside something called an object.\n",
        "\n",
        "   This is called Object Oriented way of Programming.\n",
        "\n",
        "   This appraoch is more suitable to large programs.\n",
        "\n"
      ],
      "metadata": {
        "id": "p5827DoKoboX"
      }
    },
    {
      "cell_type": "code",
      "source": [
        "#book record managment\n",
        "\n",
        "def inputbook():\n",
        "    print(\"Enter bookid\") #this is one task\n",
        "    bookid=int(input())\n",
        "    title=input(\"Enter book title \")\n",
        "    price= float(input(\"Enter book price\"))\n",
        "    mybook=(bookid,title,price)\n",
        "    return mybook\n",
        "\n",
        "def running():\n",
        "\n",
        "def main():\n",
        "    bookid= 1\n",
        "    title= \"Pyhton made easy\"\n",
        "    price= 400.4\n",
        "    author= \"Abc\"\n",
        "\n",
        "print()\n",
        "\n"
      ],
      "metadata": {
        "colab": {
          "base_uri": "https://localhost:8080/"
        },
        "id": "KZj9c3oalypW",
        "outputId": "1494c7a4-c8e9-4b0f-ef79-3170aa7ff67f"
      },
      "execution_count": null,
      "outputs": [
        {
          "output_type": "stream",
          "name": "stdout",
          "text": [
            "\n"
          ]
        }
      ]
    },
    {
      "cell_type": "markdown",
      "source": [
        "# Main Aspects of OOP (key modules)\n",
        "\n",
        "\"\"\"\n",
        "  1. Encapsulation\n",
        "  2. Inheritance\n",
        "  3. Polymorphism\n",
        "  4. Abstraction (but python is not strict for abstraction)\n",
        "\"\"\"\n",
        "# Encapsulation\n",
        "\n",
        "\n",
        "  An act of combining properties and methods elated to the same entity is called encapsulation.\n",
        "\n"
      ],
      "metadata": {
        "id": "0eRTe6Y6nEt3"
      }
    },
    {
      "cell_type": "markdown",
      "source": [
        "#1. Encapsulation\n",
        "\n",
        "Simple Definition:\n",
        "\n",
        "Wrapping data (variables) and code (methods) into a single unit (class) and hiding the internal details from outside access.\n",
        "\n",
        "##Real-life Example:\n",
        "\n",
        "Think of a TV remote. You press buttons to control the TV, but you don’t know (or need to know) how the internal circuits work. That’s encapsulation.\n",
        "\n",
        "In Python:\n",
        "We use classes, and we can make variables \"private\" using a single or double underscore prefix (e.g., _name, __age).\n",
        "\n",
        "# 2. Inheritance\n",
        "\n",
        "Simple Definition:\n",
        "\n",
        "When a class (child) can use the features (methods and variables) of another class (parent). It helps in code reusability.\n",
        "\n",
        "##Real-life Example:\n",
        "A child inherits traits from parents like eye color or skills.\n",
        "\n",
        "In Python:\n",
        "You create a new class and pass the parent class in parentheses:\n",
        "\n",
        "\n",
        "class Parent:\n",
        "    pass\n",
        "\n",
        "class Child(Parent):\n",
        "    pass\n",
        "\n",
        "#3. Polymorphism\n",
        "\n",
        "Simple Definition:\n",
        "\n",
        "The ability of different classes to respond to the same method in different ways.\n",
        "\n",
        "##Real-life Example:\n",
        "\n",
        "The word \"run\" means different things depending on the context: running code, running a race, running water.\n",
        "\n",
        "In Python:\n",
        "\n",
        "You can use the same method name in different classes, and it behaves differently based on the class:\n",
        "\n",
        "\n",
        "class Dog:\n",
        "    def speak(self):\n",
        "        return \"Bark\"\n",
        "\n",
        "class Cat:\n",
        "    def speak(self):\n",
        "        return \"Meow\"\n",
        "\n",
        "#4. Abstraction\n",
        "\n",
        "Simple Definition:\n",
        "\n",
        "Hiding complex details and showing only the necessary parts.\n",
        "\n",
        "##Real-life Example:\n",
        "\n",
        "When you drive a car, you just use the steering and pedals. You don’t see how the engine works.\n",
        "\n",
        "In Python:\n",
        "\n",
        "Python does not enforce abstraction strictly like Java or C#. But we can use abstract base classes using the abc module to define abstract methods that child classes must implement."
      ],
      "metadata": {
        "id": "-5SftKlmmh22"
      }
    },
    {
      "cell_type": "markdown",
      "source": [
        "#Class and Object"
      ],
      "metadata": {
        "id": "WfXHyrTFnY6G"
      }
    },
    {
      "cell_type": "markdown",
      "source": [
        "# object is a real world programming\n",
        "\n",
        "\n",
        "   1. Common Noun (calss)\n",
        "\n",
        "   2. Proper Noun (object)\n",
        "\n",
        "   \n",
        "# Class (variables and functions)\n",
        "   \n",
        "   \"in calss we have properties and methods\"\n",
        "    \n",
        "    and we call them atributes(sort, append)\n",
        "\n",
        "   1. class is a keyword\n",
        "   2. class name start with capital letter\n",
        "   3. calss encapsulates data and functions\n",
        "   4. creating calss is crating a new data type\n",
        "   5. class is a description of an object.\n",
        "   6. class is a blue print of abject.\n",
        "\n",
        "      l1 = [10,20,30]\n",
        "      \n",
        "      l1.append(100)\n",
        "      \n",
        "      l1.sort()\n",
        "      \n",
        "      l1.....\n",
        "\n",
        "      All these fun are made in list class and list class  is an description of l1 ,so what to do l1 using?\n",
        "\n",
        "\"\"\"\n",
        "\n",
        "# Note:\n",
        "\n",
        " int, float, complex, bool,list,range, tuple, set, dict, str, etc are classes.\n",
        "\n",
        "  x = 5\n",
        "\n",
        "  x is an int type object\n",
        "\n",
        "\n",
        "#Object\n",
        "\n",
        "\n",
        "   1. object is an instance (example) of a class.\n",
        "   2. object is a real world entity\n",
        "   3. instance = object = instance object (same)\n",
        "   4. You can create any number of objects of a class.\n",
        "\n",
        "   x = 5\n",
        "   \n",
        "   y = 4\n",
        "   \n",
        "   z = 7\n",
        "\n",
        " x, y, z refer to three differnt objects of int calss.\n",
        " thier type will be an object.\n",
        "\n"
      ],
      "metadata": {
        "id": "-sDg_rIpndne"
      }
    },
    {
      "cell_type": "markdown",
      "source": [
        "# book (entity)\n",
        "# properties\n",
        "\n",
        "\n",
        "   1.book title\n",
        "  \n",
        "   2.book id\n",
        "  \n",
        "   3.book price\n",
        "   \n",
        "   4.book author\n",
        "   \n",
        "   5.book ediiton\n",
        "\n",
        "\n",
        "# Methods\n",
        "\n",
        "   1. inputBook()\n",
        "   2. SearchBook() it is a task to access the properties of book.\n",
        "   2. DisplayBook()\n",
        "   4. updateBookPrice()\n"
      ],
      "metadata": {
        "id": "RJMv7sypn99O"
      }
    },
    {
      "cell_type": "markdown",
      "source": [
        "#Banking system software & General Examples of Classes and Objects"
      ],
      "metadata": {
        "id": "9vhpISKqomoW"
      }
    },
    {
      "cell_type": "markdown",
      "source": [
        "#Employee\n",
        "\n",
        "#Class: Employee\n",
        "\n",
        "Properties: name, salary\n",
        "\n",
        "#Methods:\n",
        "\n",
        "validateData(),\n",
        "\n",
        "checkRecord()\n",
        "\n",
        "Objects: Sara (an instance of class)\n",
        "\n",
        "(Employee with salary $5000 who can validate data and check records)\n",
        "\n",
        "#Customer\n",
        "\n",
        "#Class: Customer\n",
        "\n",
        "Properties: name, balance\n",
        "\n",
        "#Methods:\n",
        "\n",
        "payBill(),\n",
        "\n",
        "withdrawBalance()\n",
        "\n",
        "Objects: Ahmed\n",
        "\n",
        "(Customer with balance of $1000 who can pay bills or withdraw balance)\n",
        "\n",
        "\n",
        "#More Examples:\n",
        "\n",
        "#Human\n",
        "\n",
        "Properties: name, gender, age\n",
        "\n",
        "Objects: Suleman, Sara (both are instances of the Human class)\n",
        "\n",
        "#Car\n",
        "\n",
        "Class: Car\n",
        "\n",
        "Properties: model, speed, color, price\n",
        "\n",
        "Objects: Honda Civic, Toyota Corolla\n",
        "\n",
        "#General Objects\n",
        "\n",
        "\n",
        "#Class:\n",
        "\n",
        "Mobile, Chair, Pen, Computer\n",
        "\n",
        "#Properties:\n",
        "\n",
        "color, size, weight, price\n",
        "\n",
        "#Objects:\n",
        "\n",
        "Samsung mobile, Office chair, Ballpoint pen"
      ],
      "metadata": {
        "id": "gjH2BLHXovc-"
      }
    },
    {
      "cell_type": "markdown",
      "source": [
        "## Classes and Objects Practical"
      ],
      "metadata": {
        "id": "0jTId6dspnkO"
      }
    },
    {
      "cell_type": "markdown",
      "source": [
        "# Syntax of class\n",
        "\n",
        "class className:\n",
        "\n",
        "     varables\n",
        "\n",
        "     functions\n",
        "\n",
        "calss definition must be executed before its use.\n",
        "\n",
        "suleman.deposit(acc, 3000)\n",
        "\n",
        "ahmad.withdraw(acc, 2000)\n",
        "\n",
        "\n",
        "\n",
        "\n",
        "#running( )\n",
        "\n",
        "someone is runnnig but we do not know who is ?"
      ],
      "metadata": {
        "id": "89B2y3Uyp03W"
      }
    },
    {
      "cell_type": "code",
      "source": [
        "class Test: # class object with name Test\n",
        "\n",
        "    x1=5\n",
        "\n",
        "    x2=6\n",
        "\n",
        "    def f1(self):\n",
        "        print(\"Hello World\")\n",
        "\n",
        "t1 = Test()\n",
        "t2 = Test()\n",
        "t3 = Test()\n",
        "\n",
        "t1.f1()\n",
        "print(t2)\n",
        "print(type(t1))\n",
        "\n",
        "\n",
        "# <class '_main_.Test'> main file name like lec_18_classes_objects.py which is our main module\n",
        "# and main file in moudle and the test class is the data type of t1."
      ],
      "metadata": {
        "colab": {
          "base_uri": "https://localhost:8080/"
        },
        "id": "lUIAXApfp5Me",
        "outputId": "95ada1dd-378f-4b26-c3b7-ded97b082f27"
      },
      "execution_count": null,
      "outputs": [
        {
          "output_type": "stream",
          "name": "stdout",
          "text": [
            "Hello World\n",
            "<__main__.Test object at 0x7f87927b9350>\n",
            "<class '__main__.Test'>\n"
          ]
        }
      ]
    },
    {
      "cell_type": "markdown",
      "source": [
        "# Object\n",
        "\n",
        "\n",
        "   Three types of objects\n",
        "\n",
        "   1. Instace Object = object\n",
        "   \n",
        "   2. class object\n",
        "   \n",
        "   3. function object\n"
      ],
      "metadata": {
        "id": "nB7vhxawqIm2"
      }
    },
    {
      "cell_type": "markdown",
      "source": [
        "# Creating instance Object\n",
        "   \n",
        "\n",
        "   class Test:\n",
        "\n",
        "      varables\n",
        "\n",
        "      functions\n",
        "\n",
        "t1=  Test() #t1 contain the id of test class object\n",
        "\n",
        "t2 = Test()\n",
        "\n",
        "t3 = Test()"
      ],
      "metadata": {
        "id": "msnZUkMFqRpW"
      }
    },
    {
      "cell_type": "markdown",
      "source": [
        "# Differnce between instance object vs class object\n",
        "\n",
        "#class object\n",
        "\n",
        "   1.if we created the class then class object is created\n",
        "   \n",
        "   2.a variable with same name of calss refer to this class\n",
        "   \n",
        "   3.a class name is a refrence variable which store the id of class object.\n",
        "   \n",
        "   4.for one class only one class object will be created\n",
        "   \n",
        "   5.class object also has varaible name & may be fulfield at begining it depends\n",
        "\n",
        "\n",
        "\n",
        "\n",
        "\n",
        "#instance object\n",
        "\n",
        "   t3 = Test()\n",
        "   \n",
        "   instace object at begining are empty or always empty ?  no after creating these the variable data come.\n",
        "\n",
        "   \n",
        "   1. instace object refer to the class name\n",
        "   \n",
        "   2. for one calss instance object will be 0 and more\n",
        "   \n",
        "   3. instnce object also has variable name"
      ],
      "metadata": {
        "id": "mkmnJzc1qaKW"
      }
    },
    {
      "cell_type": "markdown",
      "source": [
        "#self\n",
        "\n",
        "self is required in instance methods to access the object’s properties or methods.\n",
        "\n",
        "Without self, Python considers the method as a static method.\n",
        "\n",
        "To call f1(), use the instance object like t1.f1().\n"
      ],
      "metadata": {
        "id": "kGnhEgSrqom2"
      }
    },
    {
      "cell_type": "markdown",
      "source": [
        "# static method in python\n",
        "\n",
        "class Test:\n",
        "    \n",
        "    x1 = 5\n",
        "    \n",
        "    x2 = 6\n",
        "    \n",
        "    @staticmethod\n",
        "    def f1():\n",
        "        print(\"static method\")\n",
        "\n",
        "Test.f1()  # Directly call without self\n",
        "\n",
        "\n",
        "\n",
        "# Note:\n",
        "\n",
        "   1. test  is only a calss object\n",
        "   \n",
        "   2. Test () is a fucnction call to create instance object\n",
        "     t1=  Test()\n"
      ],
      "metadata": {
        "id": "yjkuRgVQq0Eu"
      }
    }
  ]
}